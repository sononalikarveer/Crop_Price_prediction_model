{
 "cells": [
  {
   "cell_type": "code",
   "execution_count": 1,
   "id": "9b0a31ea",
   "metadata": {},
   "outputs": [],
   "source": [
    "import pandas as pd \n",
    "import numpy as np \n",
    "import pickle\n",
    "from sklearn.model_selection import train_test_split\n",
    "from sklearn.ensemble import RandomForestRegressor\n",
    "from sklearn.preprocessing import OneHotEncoder\n",
    "import os\n"
   ]
  },
  {
   "cell_type": "code",
   "execution_count": 3,
   "id": "e871cd47",
   "metadata": {},
   "outputs": [
    {
     "name": "stdout",
     "output_type": "stream",
     "text": [
      "Dataset 'Crop_Price.csv' loaded sucessfully.\n",
      "First 5 rows of the dataset:\n",
      "                 state       district      market              commodity  \\\n",
      "0  Andaman and Nicobar  South Andaman  Port Blair             Amaranthus   \n",
      "1  Andaman and Nicobar  South Andaman  Port Blair         Banana - Green   \n",
      "2  Andaman and Nicobar  South Andaman  Port Blair  Bhindi(Ladies Finger)   \n",
      "3  Andaman and Nicobar  South Andaman  Port Blair           Bitter gourd   \n",
      "4  Andaman and Nicobar  South Andaman  Port Blair           Black pepper   \n",
      "\n",
      "          variety arrival_date  min_price  max_price  modal_price  \n",
      "0      Amaranthus   04/03/2019       6000       8000         7000  \n",
      "1  Banana - Green   04/03/2019       4500       5500         5000  \n",
      "2          Bhindi   04/03/2019       6000       8000         7000  \n",
      "3           Other   04/03/2019       6000       8000         7000  \n",
      "4           Other   04/03/2019     110000     130000       120000  \n",
      "\n",
      "Dataset Information:\n",
      "<class 'pandas.core.frame.DataFrame'>\n",
      "RangeIndex: 2238 entries, 0 to 2237\n",
      "Data columns (total 9 columns):\n",
      " #   Column        Non-Null Count  Dtype \n",
      "---  ------        --------------  ----- \n",
      " 0   state         2238 non-null   object\n",
      " 1   district      2238 non-null   object\n",
      " 2   market        2238 non-null   object\n",
      " 3   commodity     2238 non-null   object\n",
      " 4   variety       2238 non-null   object\n",
      " 5   arrival_date  2238 non-null   object\n",
      " 6   min_price     2238 non-null   int64 \n",
      " 7   max_price     2238 non-null   int64 \n",
      " 8   modal_price   2238 non-null   int64 \n",
      "dtypes: int64(3), object(6)\n",
      "memory usage: 157.5+ KB\n"
     ]
    }
   ],
   "source": [
    "# file loaded sucessfully\n",
    "\n",
    "file_path = \"Crop_Price.csv\"\n",
    "try:\n",
    "    df=pd.read_csv(file_path)\n",
    "    print(f\"Dataset '{file_path}' loaded sucessfully.\")\n",
    "except FileNotFoundError:\n",
    "    print(f\"Error: The file '{file_path}' wsa not found please check the file path\")\n",
    "    exit()\n",
    "print(\"First 5 rows of the dataset:\")\n",
    "print(df.head())\n",
    "print(\"\\nDataset Information:\")\n",
    "df.info()"
   ]
  },
  {
   "cell_type": "code",
   "execution_count": 4,
   "id": "e309866f",
   "metadata": {},
   "outputs": [
    {
     "name": "stdout",
     "output_type": "stream",
     "text": [
      "\n",
      "Checking for missing values:\n",
      "state           0\n",
      "district        0\n",
      "market          0\n",
      "commodity       0\n",
      "variety         0\n",
      "arrival_date    0\n",
      "min_price       0\n",
      "max_price       0\n",
      "modal_price     0\n",
      "dtype: int64\n"
     ]
    }
   ],
   "source": [
    "\n",
    "print(\"\\nChecking for missing values:\")\n",
    "print(df.isnull().sum())"
   ]
  },
  {
   "cell_type": "code",
   "execution_count": 6,
   "id": "ca579ec4",
   "metadata": {},
   "outputs": [],
   "source": [
    "# Drop rows where 'modal_price' is missing\n",
    "df.dropna(subset=['modal_price'], inplace=True)"
   ]
  },
  {
   "cell_type": "code",
   "execution_count": 9,
   "id": "7f18930d",
   "metadata": {},
   "outputs": [],
   "source": [
    "df['arrival_date'] = pd.to_datetime(df['arrival_date'], format='%d/%m/%y', errors='coerce')\n",
    "df.dropna(subset=['arrival_date'], inplace=True)\n",
    "df = df.sort_values(by='arrival_date')\n"
   ]
  },
  {
   "cell_type": "code",
   "execution_count": null,
   "id": "c22f3f88",
   "metadata": {},
   "outputs": [],
   "source": []
  }
 ],
 "metadata": {
  "kernelspec": {
   "display_name": "Python 3",
   "language": "python",
   "name": "python3"
  },
  "language_info": {
   "codemirror_mode": {
    "name": "ipython",
    "version": 3
   },
   "file_extension": ".py",
   "mimetype": "text/x-python",
   "name": "python",
   "nbconvert_exporter": "python",
   "pygments_lexer": "ipython3",
   "version": "3.12.6"
  }
 },
 "nbformat": 4,
 "nbformat_minor": 5
}
